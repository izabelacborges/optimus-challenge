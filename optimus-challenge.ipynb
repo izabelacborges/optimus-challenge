{
 "cells": [
  {
   "cell_type": "markdown",
   "metadata": {},
   "source": [
    "# optimus-challenge\n",
    "\n",
    "O arquivo totalizador.csv contém amostras do valor totalizado, realizadas no período de 5 dias.\n",
    "\n",
    "Usando Pandas, é necessário descobrir:\n",
    "\n",
    "1. quantas toneladas foram produzidas nesse período;\n",
    "\n",
    "1. nesse período, por quantas horas a produção permaneceu parada, sabendo-se que, com produção em andamento, a balança sempre registra pelo menos 3 toneladas a cada 5 minutos."
   ]
  },
  {
   "cell_type": "code",
   "execution_count": 1,
   "metadata": {},
   "outputs": [],
   "source": [
    "import pandas as pd\n",
    "import numpy as np\n",
    "from datetime import date"
   ]
  },
  {
   "cell_type": "code",
   "execution_count": 2,
   "metadata": {},
   "outputs": [
    {
     "name": "stdout",
     "output_type": "stream",
     "text": [
      "Formato do dataframe: (28584, 1) \n",
      "\n"
     ]
    },
    {
     "data": {
      "text/html": [
       "<div>\n",
       "<style scoped>\n",
       "    .dataframe tbody tr th:only-of-type {\n",
       "        vertical-align: middle;\n",
       "    }\n",
       "\n",
       "    .dataframe tbody tr th {\n",
       "        vertical-align: top;\n",
       "    }\n",
       "\n",
       "    .dataframe thead th {\n",
       "        text-align: right;\n",
       "    }\n",
       "</style>\n",
       "<table border=\"1\" class=\"dataframe\">\n",
       "  <thead>\n",
       "    <tr style=\"text-align: right;\">\n",
       "      <th></th>\n",
       "      <th>t;Totalizador</th>\n",
       "    </tr>\n",
       "  </thead>\n",
       "  <tbody>\n",
       "    <tr>\n",
       "      <th>0</th>\n",
       "      <td>2018-03-01 00:00:07.505000-03:00;329</td>\n",
       "    </tr>\n",
       "    <tr>\n",
       "      <th>1</th>\n",
       "      <td>2018-03-01 00:00:22.512000-03:00;330</td>\n",
       "    </tr>\n",
       "    <tr>\n",
       "      <th>2</th>\n",
       "      <td>2018-03-01 00:00:37.504000-03:00;330</td>\n",
       "    </tr>\n",
       "    <tr>\n",
       "      <th>3</th>\n",
       "      <td>2018-03-01 00:00:52.496000-03:00;331</td>\n",
       "    </tr>\n",
       "    <tr>\n",
       "      <th>4</th>\n",
       "      <td>2018-03-01 00:01:07.503000-03:00;331</td>\n",
       "    </tr>\n",
       "  </tbody>\n",
       "</table>\n",
       "</div>"
      ],
      "text/plain": [
       "                          t;Totalizador\n",
       "0  2018-03-01 00:00:07.505000-03:00;329\n",
       "1  2018-03-01 00:00:22.512000-03:00;330\n",
       "2  2018-03-01 00:00:37.504000-03:00;330\n",
       "3  2018-03-01 00:00:52.496000-03:00;331\n",
       "4  2018-03-01 00:01:07.503000-03:00;331"
      ]
     },
     "execution_count": 2,
     "metadata": {},
     "output_type": "execute_result"
    }
   ],
   "source": [
    "totalizador_df = pd.read_csv('./totalizador.csv')\n",
    "\n",
    "print('Formato do dataframe:', totalizador_df.shape, '\\n')\n",
    "totalizador_df.head(5)"
   ]
  },
  {
   "cell_type": "code",
   "execution_count": 3,
   "metadata": {},
   "outputs": [
    {
     "data": {
      "text/html": [
       "<div>\n",
       "<style scoped>\n",
       "    .dataframe tbody tr th:only-of-type {\n",
       "        vertical-align: middle;\n",
       "    }\n",
       "\n",
       "    .dataframe tbody tr th {\n",
       "        vertical-align: top;\n",
       "    }\n",
       "\n",
       "    .dataframe thead th {\n",
       "        text-align: right;\n",
       "    }\n",
       "</style>\n",
       "<table border=\"1\" class=\"dataframe\">\n",
       "  <thead>\n",
       "    <tr style=\"text-align: right;\">\n",
       "      <th></th>\n",
       "      <th>t;Totalizador</th>\n",
       "    </tr>\n",
       "  </thead>\n",
       "  <tbody>\n",
       "    <tr>\n",
       "      <th>count</th>\n",
       "      <td>28584</td>\n",
       "    </tr>\n",
       "    <tr>\n",
       "      <th>unique</th>\n",
       "      <td>28584</td>\n",
       "    </tr>\n",
       "    <tr>\n",
       "      <th>top</th>\n",
       "      <td>2018-03-03 12:32:22.510000-03:00;2018</td>\n",
       "    </tr>\n",
       "    <tr>\n",
       "      <th>freq</th>\n",
       "      <td>1</td>\n",
       "    </tr>\n",
       "  </tbody>\n",
       "</table>\n",
       "</div>"
      ],
      "text/plain": [
       "                                t;Totalizador\n",
       "count                                   28584\n",
       "unique                                  28584\n",
       "top     2018-03-03 12:32:22.510000-03:00;2018\n",
       "freq                                        1"
      ]
     },
     "execution_count": 3,
     "metadata": {},
     "output_type": "execute_result"
    }
   ],
   "source": [
    "totalizador_df.describe()"
   ]
  },
  {
   "cell_type": "code",
   "execution_count": 4,
   "metadata": {},
   "outputs": [],
   "source": [
    "def get_date(line):\n",
    "    ano, mes, dia = (str(line).split()[0].split('-'))\n",
    "    return date(int(ano), int(mes), int(dia))\n",
    "\n",
    "def get_time(line):\n",
    "    return str(line).split()[1].split('-')[0].split('.')[0]\n",
    "\n",
    "def get_tons(line):\n",
    "    return int(str(line).split(';')[-1])"
   ]
  },
  {
   "cell_type": "code",
   "execution_count": 5,
   "metadata": {},
   "outputs": [],
   "source": [
    "totalizador_df['data'] = totalizador_df['t;Totalizador'].apply(get_date)\n",
    "totalizador_df['hora'] = totalizador_df['t;Totalizador'].apply(get_time)\n",
    "totalizador_df['toneladas'] = totalizador_df['t;Totalizador'].apply(get_tons)\n",
    "\n",
    "tons_df = totalizador_df[['data', 'hora', 'toneladas']]"
   ]
  },
  {
   "cell_type": "code",
   "execution_count": 6,
   "metadata": {},
   "outputs": [
    {
     "data": {
      "text/html": [
       "<div>\n",
       "<style scoped>\n",
       "    .dataframe tbody tr th:only-of-type {\n",
       "        vertical-align: middle;\n",
       "    }\n",
       "\n",
       "    .dataframe tbody tr th {\n",
       "        vertical-align: top;\n",
       "    }\n",
       "\n",
       "    .dataframe thead th {\n",
       "        text-align: right;\n",
       "    }\n",
       "</style>\n",
       "<table border=\"1\" class=\"dataframe\">\n",
       "  <thead>\n",
       "    <tr style=\"text-align: right;\">\n",
       "      <th></th>\n",
       "      <th>data</th>\n",
       "      <th>hora</th>\n",
       "      <th>toneladas</th>\n",
       "    </tr>\n",
       "  </thead>\n",
       "  <tbody>\n",
       "    <tr>\n",
       "      <th>0</th>\n",
       "      <td>2018-03-01</td>\n",
       "      <td>00:00:07</td>\n",
       "      <td>329</td>\n",
       "    </tr>\n",
       "    <tr>\n",
       "      <th>1</th>\n",
       "      <td>2018-03-01</td>\n",
       "      <td>00:00:22</td>\n",
       "      <td>330</td>\n",
       "    </tr>\n",
       "    <tr>\n",
       "      <th>2</th>\n",
       "      <td>2018-03-01</td>\n",
       "      <td>00:00:37</td>\n",
       "      <td>330</td>\n",
       "    </tr>\n",
       "    <tr>\n",
       "      <th>3</th>\n",
       "      <td>2018-03-01</td>\n",
       "      <td>00:00:52</td>\n",
       "      <td>331</td>\n",
       "    </tr>\n",
       "    <tr>\n",
       "      <th>4</th>\n",
       "      <td>2018-03-01</td>\n",
       "      <td>00:01:07</td>\n",
       "      <td>331</td>\n",
       "    </tr>\n",
       "  </tbody>\n",
       "</table>\n",
       "</div>"
      ],
      "text/plain": [
       "         data      hora  toneladas\n",
       "0  2018-03-01  00:00:07        329\n",
       "1  2018-03-01  00:00:22        330\n",
       "2  2018-03-01  00:00:37        330\n",
       "3  2018-03-01  00:00:52        331\n",
       "4  2018-03-01  00:01:07        331"
      ]
     },
     "execution_count": 6,
     "metadata": {},
     "output_type": "execute_result"
    }
   ],
   "source": [
    "tons_df.head()"
   ]
  },
  {
   "cell_type": "code",
   "execution_count": 7,
   "metadata": {},
   "outputs": [
    {
     "name": "stdout",
     "output_type": "stream",
     "text": [
      "Quantidade de dias: 5\n",
      "Data mínima: 2018-03-01\n",
      "Data máxima: 2018-03-05\n"
     ]
    }
   ],
   "source": [
    "# Conferindo as datas\n",
    "print('Quantidade de dias:', tons_df['data'].nunique())\n",
    "print('Data mínima:', tons_df['data'].min())\n",
    "print('Data máxima:', tons_df['data'].max())"
   ]
  },
  {
   "cell_type": "code",
   "execution_count": 8,
   "metadata": {},
   "outputs": [],
   "source": [
    "CINCO = 5 * 60\n",
    "\n",
    "def time_to_sec(line):\n",
    "    hora, minuto, segundo = line.split(':')\n",
    "    return ((int(hora) * 3600) + (int(minuto) * 60) + int(segundo))\n",
    "\n",
    "def delta_time(dh1, dh2):\n",
    "    dt1 = (dh1[0].day * 86400) + dh1[1]\n",
    "    dt2 = (dh2[0].day * 86400) + dh2[1]\n",
    "    return dt2 - dt1"
   ]
  },
  {
   "cell_type": "code",
   "execution_count": 9,
   "metadata": {},
   "outputs": [
    {
     "data": {
      "text/html": [
       "<div>\n",
       "<style scoped>\n",
       "    .dataframe tbody tr th:only-of-type {\n",
       "        vertical-align: middle;\n",
       "    }\n",
       "\n",
       "    .dataframe tbody tr th {\n",
       "        vertical-align: top;\n",
       "    }\n",
       "\n",
       "    .dataframe thead th {\n",
       "        text-align: right;\n",
       "    }\n",
       "</style>\n",
       "<table border=\"1\" class=\"dataframe\">\n",
       "  <thead>\n",
       "    <tr style=\"text-align: right;\">\n",
       "      <th></th>\n",
       "      <th>data</th>\n",
       "      <th>hora</th>\n",
       "      <th>toneladas</th>\n",
       "      <th>timesec</th>\n",
       "    </tr>\n",
       "  </thead>\n",
       "  <tbody>\n",
       "    <tr>\n",
       "      <th>0</th>\n",
       "      <td>2018-03-01</td>\n",
       "      <td>00:00:07</td>\n",
       "      <td>329</td>\n",
       "      <td>7</td>\n",
       "    </tr>\n",
       "    <tr>\n",
       "      <th>1</th>\n",
       "      <td>2018-03-01</td>\n",
       "      <td>00:00:22</td>\n",
       "      <td>330</td>\n",
       "      <td>22</td>\n",
       "    </tr>\n",
       "    <tr>\n",
       "      <th>2</th>\n",
       "      <td>2018-03-01</td>\n",
       "      <td>00:00:37</td>\n",
       "      <td>330</td>\n",
       "      <td>37</td>\n",
       "    </tr>\n",
       "    <tr>\n",
       "      <th>3</th>\n",
       "      <td>2018-03-01</td>\n",
       "      <td>00:00:52</td>\n",
       "      <td>331</td>\n",
       "      <td>52</td>\n",
       "    </tr>\n",
       "    <tr>\n",
       "      <th>4</th>\n",
       "      <td>2018-03-01</td>\n",
       "      <td>00:01:07</td>\n",
       "      <td>331</td>\n",
       "      <td>67</td>\n",
       "    </tr>\n",
       "  </tbody>\n",
       "</table>\n",
       "</div>"
      ],
      "text/plain": [
       "         data      hora  toneladas  timesec\n",
       "0  2018-03-01  00:00:07        329        7\n",
       "1  2018-03-01  00:00:22        330       22\n",
       "2  2018-03-01  00:00:37        330       37\n",
       "3  2018-03-01  00:00:52        331       52\n",
       "4  2018-03-01  00:01:07        331       67"
      ]
     },
     "execution_count": 9,
     "metadata": {},
     "output_type": "execute_result"
    }
   ],
   "source": [
    "tons_df['timesec'] = tons_df['hora'].apply(time_to_sec)\n",
    "tons_df.head()"
   ]
  },
  {
   "cell_type": "code",
   "execution_count": 11,
   "metadata": {},
   "outputs": [
    {
     "data": {
      "text/html": [
       "<div>\n",
       "<style scoped>\n",
       "    .dataframe tbody tr th:only-of-type {\n",
       "        vertical-align: middle;\n",
       "    }\n",
       "\n",
       "    .dataframe tbody tr th {\n",
       "        vertical-align: top;\n",
       "    }\n",
       "\n",
       "    .dataframe thead th {\n",
       "        text-align: right;\n",
       "    }\n",
       "</style>\n",
       "<table border=\"1\" class=\"dataframe\">\n",
       "  <thead>\n",
       "    <tr style=\"text-align: right;\">\n",
       "      <th></th>\n",
       "      <th>data</th>\n",
       "      <th>hora</th>\n",
       "      <th>toneladas</th>\n",
       "      <th>timesec</th>\n",
       "      <th>dtime</th>\n",
       "    </tr>\n",
       "  </thead>\n",
       "  <tbody>\n",
       "    <tr>\n",
       "      <th>0</th>\n",
       "      <td>2018-03-01</td>\n",
       "      <td>00:00:07</td>\n",
       "      <td>329</td>\n",
       "      <td>7</td>\n",
       "      <td>0</td>\n",
       "    </tr>\n",
       "    <tr>\n",
       "      <th>1</th>\n",
       "      <td>2018-03-01</td>\n",
       "      <td>00:00:22</td>\n",
       "      <td>330</td>\n",
       "      <td>22</td>\n",
       "      <td>15</td>\n",
       "    </tr>\n",
       "    <tr>\n",
       "      <th>2</th>\n",
       "      <td>2018-03-01</td>\n",
       "      <td>00:00:37</td>\n",
       "      <td>330</td>\n",
       "      <td>37</td>\n",
       "      <td>15</td>\n",
       "    </tr>\n",
       "    <tr>\n",
       "      <th>3</th>\n",
       "      <td>2018-03-01</td>\n",
       "      <td>00:00:52</td>\n",
       "      <td>331</td>\n",
       "      <td>52</td>\n",
       "      <td>15</td>\n",
       "    </tr>\n",
       "    <tr>\n",
       "      <th>4</th>\n",
       "      <td>2018-03-01</td>\n",
       "      <td>00:01:07</td>\n",
       "      <td>331</td>\n",
       "      <td>67</td>\n",
       "      <td>15</td>\n",
       "    </tr>\n",
       "  </tbody>\n",
       "</table>\n",
       "</div>"
      ],
      "text/plain": [
       "         data      hora  toneladas  timesec  dtime\n",
       "0  2018-03-01  00:00:07        329        7      0\n",
       "1  2018-03-01  00:00:22        330       22     15\n",
       "2  2018-03-01  00:00:37        330       37     15\n",
       "3  2018-03-01  00:00:52        331       52     15\n",
       "4  2018-03-01  00:01:07        331       67     15"
      ]
     },
     "execution_count": 11,
     "metadata": {},
     "output_type": "execute_result"
    }
   ],
   "source": [
    "tons_df['dtime'] = 0\n",
    "\n",
    "for n in range(1, tons_df.shape[0]):\n",
    "    delta = delta_time([tons_df.loc[n-1,'data'], tons_df.loc[n-1,'timesec']], \\\n",
    "                       [tons_df.loc[n,'data'], tons_df.loc[n,'timesec']])\n",
    "    if delta > 0:\n",
    "        tons_df.loc[n,'dtime'] = delta\n",
    "    \n",
    "tons_df.head()"
   ]
  },
  {
   "cell_type": "code",
   "execution_count": 12,
   "metadata": {},
   "outputs": [
    {
     "data": {
      "text/plain": [
       "array([  0,  15, 150, 135, 300, 120, 240, 105, 195, 255, 225, 315, 165])"
      ]
     },
     "execution_count": 12,
     "metadata": {},
     "output_type": "execute_result"
    }
   ],
   "source": [
    "tons_df['dtime'].unique()"
   ]
  },
  {
   "cell_type": "code",
   "execution_count": 13,
   "metadata": {},
   "outputs": [
    {
     "data": {
      "text/html": [
       "<div>\n",
       "<style scoped>\n",
       "    .dataframe tbody tr th:only-of-type {\n",
       "        vertical-align: middle;\n",
       "    }\n",
       "\n",
       "    .dataframe tbody tr th {\n",
       "        vertical-align: top;\n",
       "    }\n",
       "\n",
       "    .dataframe thead th {\n",
       "        text-align: right;\n",
       "    }\n",
       "</style>\n",
       "<table border=\"1\" class=\"dataframe\">\n",
       "  <thead>\n",
       "    <tr style=\"text-align: right;\">\n",
       "      <th></th>\n",
       "      <th>data</th>\n",
       "      <th>hora</th>\n",
       "      <th>toneladas</th>\n",
       "      <th>timesec</th>\n",
       "      <th>dtime</th>\n",
       "    </tr>\n",
       "  </thead>\n",
       "  <tbody>\n",
       "    <tr>\n",
       "      <th>2435</th>\n",
       "      <td>2018-03-01</td>\n",
       "      <td>10:17:52</td>\n",
       "      <td>1461</td>\n",
       "      <td>37072</td>\n",
       "      <td>300</td>\n",
       "    </tr>\n",
       "    <tr>\n",
       "      <th>9751</th>\n",
       "      <td>2018-03-02</td>\n",
       "      <td>17:11:07</td>\n",
       "      <td>1865</td>\n",
       "      <td>61867</td>\n",
       "      <td>315</td>\n",
       "    </tr>\n",
       "    <tr>\n",
       "      <th>10171</th>\n",
       "      <td>2018-03-02</td>\n",
       "      <td>19:00:52</td>\n",
       "      <td>2103</td>\n",
       "      <td>68452</td>\n",
       "      <td>300</td>\n",
       "    </tr>\n",
       "  </tbody>\n",
       "</table>\n",
       "</div>"
      ],
      "text/plain": [
       "             data      hora  toneladas  timesec  dtime\n",
       "2435   2018-03-01  10:17:52       1461    37072    300\n",
       "9751   2018-03-02  17:11:07       1865    61867    315\n",
       "10171  2018-03-02  19:00:52       2103    68452    300"
      ]
     },
     "execution_count": 13,
     "metadata": {},
     "output_type": "execute_result"
    }
   ],
   "source": [
    "stand_by = tons_df[tons_df['dtime']>=CINCO]\n",
    "stand_by"
   ]
  },
  {
   "cell_type": "code",
   "execution_count": 10,
   "metadata": {},
   "outputs": [
    {
     "name": "stdout",
     "output_type": "stream",
     "text": [
      "Toneladas produzidas entre 2018-03-01 e 2018-03-05 : 13839\n"
     ]
    }
   ],
   "source": [
    "toneladas = 0\n",
    "\n",
    "for n in range(0, tons_df.shape[0]-1):\n",
    "    if tons_df.loc[n,'toneladas'] > tons_df.loc[n+1,'toneladas']:\n",
    "        toneladas = toneladas + tons_df.loc[n,'toneladas']\n",
    "        \n",
    "print('Toneladas produzidas entre', tons_df['data'].min(), 'e', tons_df['data'].max(), ':', toneladas)"
   ]
  },
  {
   "cell_type": "code",
   "execution_count": 27,
   "metadata": {},
   "outputs": [
    {
     "name": "stdout",
     "output_type": "stream",
     "text": [
      "Total de horas paradas: 21:04:15\n"
     ]
    }
   ],
   "source": [
    "tempo_parado = 0\n",
    "init = 0\n",
    "\n",
    "while init < tons_df.shape[0]-1:\n",
    "    for n in range(init, tons_df.shape[0]):\n",
    "        for m in range(n+1, tons_df.shape[0]):\n",
    "            tempo = tons_df.loc[m,'timesec'] - tons_df.loc[n,'timesec']\n",
    "            if tempo >= CINCO:\n",
    "                init = m+1\n",
    "                delta_tons = tons_df.loc[m,'toneladas'] - tons_df.loc[n,'toneladas']\n",
    "                if delta_tons < 3:\n",
    "                    tempo_parado = tempo_parado + tempo\n",
    "                    break\n",
    "        break\n",
    "\n",
    "    \n",
    "horas = tempo_parado // 3600\n",
    "minutos = (tempo_parado - (horas * 3600)) // 60\n",
    "segundos = tempo_parado % 60\n",
    "\n",
    "print('Total de horas paradas:', '{}:{:02}:{:02}'.format(horas, minutos, segundos))"
   ]
  }
 ],
 "metadata": {
  "kernelspec": {
   "display_name": "Python 3",
   "language": "python",
   "name": "python3"
  },
  "language_info": {
   "codemirror_mode": {
    "name": "ipython",
    "version": 3
   },
   "file_extension": ".py",
   "mimetype": "text/x-python",
   "name": "python",
   "nbconvert_exporter": "python",
   "pygments_lexer": "ipython3",
   "version": "3.6.1"
  }
 },
 "nbformat": 4,
 "nbformat_minor": 2
}
